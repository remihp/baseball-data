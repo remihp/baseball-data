{
 "cells": [
  {
   "cell_type": "code",
   "execution_count": 1,
   "metadata": {},
   "outputs": [],
   "source": [
    "import requests, bs4\n",
    "import re\n",
    "import pandas as pd\n",
    "import time \n",
    "import numpy as np\n",
    "import matplotlib.pyplot as plt\n",
    "import seaborn as sns\n",
    "%matplotlib inline"
   ]
  },
  {
   "cell_type": "markdown",
   "metadata": {},
   "source": [
    "#### データフレーム作成"
   ]
  },
  {
   "cell_type": "code",
   "execution_count": 2,
   "metadata": {},
   "outputs": [],
   "source": [
    "cols = [\"index\",\"top\",\"left\",\"pitcher\",\"batter\",\"batter_rl\",\"type\",\"speed\",\"result\"]\n",
    "ball_distribution = pd.DataFrame(index=[], columns=cols)"
   ]
  },
  {
   "cell_type": "markdown",
   "metadata": {},
   "source": [
    "#### スクレイピング"
   ]
  },
  {
   "cell_type": "code",
   "execution_count": 3,
   "metadata": {},
   "outputs": [
    {
     "name": "stdout",
     "output_type": "stream",
     "text": [
      "1\n",
      "Not Found Error in index=0120400\n",
      "2\n",
      "Not Found Error in index=0220400\n",
      "3\n",
      "Not Found Error in index=0320500\n",
      "4\n",
      "Not Found Error in index=0420600\n",
      "5\n",
      "Not Found Error in index=0520500\n",
      "6\n",
      "Not Found Error in index=0620400\n",
      "7\n",
      "Not Found Error in index=0720500\n",
      "8\n",
      "Not Found Error in index=0820500\n",
      "9\n",
      "Not Found Error in index=0920600\n",
      "10\n",
      "Not Found Error in index=01020100\n"
     ]
    }
   ],
   "source": [
    "# index : 1回裏：0120100,0120200,...2回裏：0220100,0220200,...\n",
    "for inning in range(1,11): #1-10回\n",
    "    print(inning)\n",
    "    for b_count in range(100,10000,100): #打席\n",
    "        url= 'https://baseball.yahoo.co.jp/npb/game/2020090503/score?index=0{}20{}'.format(inning,b_count)\n",
    "        #print(url)\n",
    "        index = re.search(r'index=\\d+', url)\n",
    "        res = requests.get(url)\n",
    "\n",
    "        try:\n",
    "            res.raise_for_status() \n",
    "        except requests.exceptions.RequestException:\n",
    "            print('Not Found Error in {}'.format(index.group())) #Not Foundエラーが出たらその回は終わったとみなす\n",
    "            break\n",
    "\n",
    "\n",
    "        soup = bs4.BeautifulSoup(res.text, \"html.parser\")\n",
    "        elems = soup.select('.bb-icon__ballCircle')\n",
    "        elems1 = soup.select('#gm_rslt .bb-splitsTable__data a') #投手、打者\n",
    "        elems2 = soup.select('.bb-splitsTable__data--ballType') #球種\n",
    "        elems3 = soup.select('.bb-splitsTable__data--speed') #球速\n",
    "        elems4 = soup.select('.bb-splitsTable__data--result') #結果\n",
    "        elems5 = soup.select('#gm_rslt .bb-splitsTable__data') #打者左右\n",
    "        #print(elems)\n",
    "        for elem,elem2,elem3,elem4 in zip(elems,elems2,elems3,elems4):\n",
    "            s = str(elem)\n",
    "            ball_type = elem2.string\n",
    "            ball_speed = elem3.string\n",
    "            top = re.search(r'top:\\d+px', s)\n",
    "            left = re.search(r'left:\\d+px', s)\n",
    "            batter = elems1[0].string\n",
    "            pitcher = elems1[1].string\n",
    "            result = elem4.text\n",
    "            rl = elems5[1].string\n",
    "            #print(s1)  #投手、打者\n",
    "            if top != None and left != None:    \n",
    "                #print(s1)\n",
    "                #print([int(index.group()[6:]),int(top.group()[4:][:-2]),int(left.group()[5:][:-2]),pitcher,batter,rl,ball_type,ball_speed,result])\n",
    "                ball_distribution.loc[len(ball_distribution)] = [int(index.group()[6:]),int(top.group()[4:][:-2]),int(left.group()[5:][:-2]),pitcher,batter,rl,ball_type,ball_speed[:-4],result]\n",
    "        time.sleep(1)"
   ]
  },
  {
   "cell_type": "code",
   "execution_count": 4,
   "metadata": {},
   "outputs": [
    {
     "data": {
      "text/html": [
       "<div>\n",
       "<style scoped>\n",
       "    .dataframe tbody tr th:only-of-type {\n",
       "        vertical-align: middle;\n",
       "    }\n",
       "\n",
       "    .dataframe tbody tr th {\n",
       "        vertical-align: top;\n",
       "    }\n",
       "\n",
       "    .dataframe thead th {\n",
       "        text-align: right;\n",
       "    }\n",
       "</style>\n",
       "<table border=\"1\" class=\"dataframe\">\n",
       "  <thead>\n",
       "    <tr style=\"text-align: right;\">\n",
       "      <th></th>\n",
       "      <th>index</th>\n",
       "      <th>top</th>\n",
       "      <th>left</th>\n",
       "      <th>pitcher</th>\n",
       "      <th>batter</th>\n",
       "      <th>batter_rl</th>\n",
       "      <th>type</th>\n",
       "      <th>speed</th>\n",
       "      <th>result</th>\n",
       "    </tr>\n",
       "  </thead>\n",
       "  <tbody>\n",
       "    <tr>\n",
       "      <th>0</th>\n",
       "      <td>120100</td>\n",
       "      <td>83</td>\n",
       "      <td>66</td>\n",
       "      <td>大貫 晋一</td>\n",
       "      <td>ピレラ</td>\n",
       "      <td>右</td>\n",
       "      <td>スプリット</td>\n",
       "      <td>136</td>\n",
       "      <td>\\n                    見逃し\\n                   ...</td>\n",
       "    </tr>\n",
       "    <tr>\n",
       "      <th>1</th>\n",
       "      <td>120100</td>\n",
       "      <td>40</td>\n",
       "      <td>68</td>\n",
       "      <td>大貫 晋一</td>\n",
       "      <td>ピレラ</td>\n",
       "      <td>右</td>\n",
       "      <td>ストレート</td>\n",
       "      <td>140</td>\n",
       "      <td>\\n                    右飛\\n                    ...</td>\n",
       "    </tr>\n",
       "    <tr>\n",
       "      <th>2</th>\n",
       "      <td>120200</td>\n",
       "      <td>160</td>\n",
       "      <td>60</td>\n",
       "      <td>大貫 晋一</td>\n",
       "      <td>菊池 涼介</td>\n",
       "      <td>右</td>\n",
       "      <td>ツーシーム</td>\n",
       "      <td>143</td>\n",
       "      <td>\\n                    ボール\\n                   ...</td>\n",
       "    </tr>\n",
       "    <tr>\n",
       "      <th>3</th>\n",
       "      <td>120200</td>\n",
       "      <td>83</td>\n",
       "      <td>92</td>\n",
       "      <td>大貫 晋一</td>\n",
       "      <td>菊池 涼介</td>\n",
       "      <td>右</td>\n",
       "      <td>ツーシーム</td>\n",
       "      <td>142</td>\n",
       "      <td>\\n                    ファウル\\n                  ...</td>\n",
       "    </tr>\n",
       "    <tr>\n",
       "      <th>4</th>\n",
       "      <td>120200</td>\n",
       "      <td>120</td>\n",
       "      <td>59</td>\n",
       "      <td>大貫 晋一</td>\n",
       "      <td>菊池 涼介</td>\n",
       "      <td>右</td>\n",
       "      <td>ツーシーム</td>\n",
       "      <td>143</td>\n",
       "      <td>\\n                    三ゴロ\\n                   ...</td>\n",
       "    </tr>\n",
       "  </tbody>\n",
       "</table>\n",
       "</div>"
      ],
      "text/plain": [
       "    index  top left pitcher batter batter_rl   type speed  \\\n",
       "0  120100   83   66   大貫 晋一    ピレラ         右  スプリット   136   \n",
       "1  120100   40   68   大貫 晋一    ピレラ         右  ストレート   140   \n",
       "2  120200  160   60   大貫 晋一  菊池 涼介         右  ツーシーム   143   \n",
       "3  120200   83   92   大貫 晋一  菊池 涼介         右  ツーシーム   142   \n",
       "4  120200  120   59   大貫 晋一  菊池 涼介         右  ツーシーム   143   \n",
       "\n",
       "                                              result  \n",
       "0  \\n                    見逃し\\n                   ...  \n",
       "1  \\n                    右飛\\n                    ...  \n",
       "2  \\n                    ボール\\n                   ...  \n",
       "3  \\n                    ファウル\\n                  ...  \n",
       "4  \\n                    三ゴロ\\n                   ...  "
      ]
     },
     "execution_count": 4,
     "metadata": {},
     "output_type": "execute_result"
    }
   ],
   "source": [
    "ball_distribution.head()"
   ]
  },
  {
   "cell_type": "code",
   "execution_count": 5,
   "metadata": {},
   "outputs": [],
   "source": [
    "# 型変換\n",
    "ball_distribution[\"top\"] = ball_distribution[\"top\"].astype(int)\n",
    "ball_distribution[\"left\"] = ball_distribution[\"left\"].astype(int)\n",
    "ball_distribution[\"speed\"] = ball_distribution[\"speed\"].astype(int)\n",
    "# 空白、改行、[]削除\n",
    "ball_distribution[\"result\"] = ball_distribution[\"result\"].str.replace(\" \",\"\").str.replace(\"\\n\",\"\").str.replace(r\"\\[.+\\]\",\"\")"
   ]
  },
  {
   "cell_type": "code",
   "execution_count": 6,
   "metadata": {},
   "outputs": [
    {
     "data": {
      "text/plain": [
       "スプリット     31\n",
       "ストレート     22\n",
       "ツーシーム     19\n",
       "スライダー     18\n",
       "カットボール    13\n",
       "カーブ        8\n",
       "Name: type, dtype: int64"
      ]
     },
     "execution_count": 6,
     "metadata": {},
     "output_type": "execute_result"
    }
   ],
   "source": [
    "# 球種\n",
    "ball_distribution[\"type\"].value_counts()"
   ]
  },
  {
   "cell_type": "code",
   "execution_count": 7,
   "metadata": {},
   "outputs": [
    {
     "data": {
      "text/plain": [
       "ボール     30\n",
       "見逃し     21\n",
       "ファウル    17\n",
       "空振り      8\n",
       "空三振      4\n",
       "遊ゴロ      4\n",
       "中飛       4\n",
       "右飛       4\n",
       "二ゴロ      3\n",
       "三ゴロ      3\n",
       "中安       2\n",
       "左安       2\n",
       "左２       2\n",
       "左邪飛      1\n",
       "投ゴロ      1\n",
       "右２       1\n",
       "一ゴロ      1\n",
       "右安       1\n",
       "捕犠打      1\n",
       "三飛       1\n",
       "Name: result, dtype: int64"
      ]
     },
     "execution_count": 7,
     "metadata": {},
     "output_type": "execute_result"
    }
   ],
   "source": [
    "# 結果\n",
    "ball_distribution[\"result\"].value_counts()"
   ]
  },
  {
   "cell_type": "markdown",
   "metadata": {},
   "source": [
    "#### 配球を散布図にする\n",
    "- htmlからストライクゾーンを推定して描画"
   ]
  },
  {
   "cell_type": "code",
   "execution_count": 8,
   "metadata": {},
   "outputs": [
    {
     "name": "stderr",
     "output_type": "stream",
     "text": [
      "C:\\Users\\remi\\Anaconda3\\envs\\my_env\\lib\\site-packages\\ipykernel_launcher.py:15: MatplotlibDeprecationWarning: Adding an axes using the same arguments as a previous axes currently reuses the earlier instance.  In a future version, a new instance will always be created and returned.  Meanwhile, this warning can be suppressed, and the future behavior ensured, by passing a unique label to each axes instance.\n",
      "  from ipykernel import kernelapp as app\n",
      "findfont: Font family ['IPAexGothic'] not found. Falling back to DejaVu Sans.\n"
     ]
    },
    {
     "data": {
      "image/png": "[encoded data removed]",
      "text/plain": [
       "<Figure size 432x288 with 1 Axes>"
      ]
     },
     "metadata": {
      "needs_background": "light"
     },
     "output_type": "display_data"
    }
   ],
   "source": [
    "# 配球\n",
    "fig = plt.figure()\n",
    "ax = fig.add_subplot(111)\n",
    "# ストライクゾーン\n",
    "rect = plt.Rectangle((32,40),96,120,fc=\"#770000\",fill=False)\n",
    "ax.add_patch(rect)\n",
    "\n",
    "# ピクセル値の調整\n",
    "x = ball_distribution[\"left\"]+10\n",
    "y = 200-ball_distribution[\"top\"]-10\n",
    "ax.scatter(x, y,alpha=0.5)\n",
    "plt.xlim(0, 160)\n",
    "plt.ylim(0, 200)\n",
    "# アスペクト比を調節\n",
    "plt.axes().set_aspect('equal')\n",
    "plt.show()"
   ]
  },
  {
   "cell_type": "markdown",
   "metadata": {},
   "source": [
    "- ライン上に球が来ていないのはサイトの都合と思われる"
   ]
  },
  {
   "cell_type": "markdown",
   "metadata": {},
   "source": [
    "#### ストライクゾーンの確認\n",
    "- 念のためボール判定のボールを確認"
   ]
  },
  {
   "cell_type": "code",
   "execution_count": 9,
   "metadata": {},
   "outputs": [
    {
     "name": "stderr",
     "output_type": "stream",
     "text": [
      "C:\\Users\\remi\\Anaconda3\\envs\\my_env\\lib\\site-packages\\ipykernel_launcher.py:20: MatplotlibDeprecationWarning: Adding an axes using the same arguments as a previous axes currently reuses the earlier instance.  In a future version, a new instance will always be created and returned.  Meanwhile, this warning can be suppressed, and the future behavior ensured, by passing a unique label to each axes instance.\n",
      "C:\\Users\\remi\\Anaconda3\\envs\\my_env\\lib\\site-packages\\ipykernel_launcher.py:27: UserWarning: Matplotlib is currently using module://ipykernel.pylab.backend_inline, which is a non-GUI backend, so cannot show the figure.\n",
      "findfont: Font family ['IPAexGothic'] not found. Falling back to DejaVu Sans.\n"
     ]
    },
    {
     "data": {
      "image/png": "[encoded data removed]",
      "text/plain": [
       "<Figure size 432x288 with 1 Axes>"
      ]
     },
     "metadata": {
      "needs_background": "light"
     },
     "output_type": "display_data"
    }
   ],
   "source": [
    "ballzone = ball_distribution[ball_distribution[\"result\"]==\"ボール\"]\n",
    "strike_out = ball_distribution[ball_distribution[\"result\"]!=\"ボール\"]\n",
    "\n",
    "x1 = ballzone[\"left\"]+10\n",
    "y1 = 200-ballzone[\"top\"]-10\n",
    "\n",
    "x2 = strike_out[\"left\"]+10\n",
    "y2 = 200-strike_out[\"top\"]-10\n",
    "\n",
    "fig = plt.figure()\n",
    "ax = fig.add_subplot(111)\n",
    "rect = plt.Rectangle((32,40),96,120,fill=False) #ストライクゾーン\n",
    "ax.add_patch(rect)\n",
    "\n",
    "ax.scatter(x1, y1,alpha=0.5,label=\"ball\")\n",
    "ax.scatter(x2, y2,alpha=0.5,label=\"not ball\")\n",
    "\n",
    "plt.xlim(0, 160)\n",
    "plt.ylim(0, 200)\n",
    "plt.axes().set_aspect('equal')\n",
    "\n",
    "ax.set_title('ball or not ball')\n",
    "ax.set_xlabel('x')\n",
    "ax.set_ylabel('y')\n",
    "\n",
    "ax.legend(loc='best')\n",
    "fig.show()\n"
   ]
  },
  {
   "cell_type": "markdown",
   "metadata": {},
   "source": [
    "- ボール判定された球がストライクゾーンの枠の外にあることが確認できた"
   ]
  },
  {
   "cell_type": "markdown",
   "metadata": {},
   "source": [
    "#### 左右打者の比較"
   ]
  },
  {
   "cell_type": "code",
   "execution_count": 10,
   "metadata": {},
   "outputs": [
    {
     "name": "stderr",
     "output_type": "stream",
     "text": [
      "C:\\Users\\remi\\Anaconda3\\envs\\my_env\\lib\\site-packages\\ipykernel_launcher.py:32: UserWarning: Matplotlib is currently using module://ipykernel.pylab.backend_inline, which is a non-GUI backend, so cannot show the figure.\n"
     ]
    },
    {
     "data": {
      "image/png": "[encoded data removed]",
      "text/plain": [
       "<Figure size 432x288 with 2 Axes>"
      ]
     },
     "metadata": {
      "needs_background": "light"
     },
     "output_type": "display_data"
    }
   ],
   "source": [
    "rightbatter = ball_distribution[ball_distribution[\"batter_rl\"]==\"右\"]\n",
    "leftbatter = ball_distribution[ball_distribution[\"batter_rl\"]==\"左\"]\n",
    "\n",
    "\n",
    "x1 = rightbatter[\"left\"]+10\n",
    "y1 = 200-rightbatter[\"top\"]-10\n",
    "\n",
    "x2 = leftbatter[\"left\"]+10\n",
    "y2 = 200-leftbatter[\"top\"]-10\n",
    "\n",
    "fig = plt.figure()\n",
    "ax1 = fig.add_subplot(1, 2, 1)\n",
    "ax2 = fig.add_subplot(1, 2, 2)\n",
    "rect1 = plt.Rectangle((32,40),96,120,fill=False)\n",
    "rect2 = plt.Rectangle((32,40),96,120,fill=False)\n",
    "ax1.add_patch(rect1)\n",
    "ax2.add_patch(rect2)\n",
    "\n",
    "ax1.scatter(x1, y1,alpha=0.5)\n",
    "ax2.scatter(x2, y2,alpha=0.5)\n",
    "\n",
    "ax1.set_title('right batter')\n",
    "ax2.set_title('left batter')\n",
    "\n",
    "ax1.set_xlim(0, 160)\n",
    "ax1.set_ylim(0, 200)\n",
    "ax2.set_xlim(0, 160)\n",
    "ax2.set_ylim(0, 200)\n",
    "\n",
    "ax1.set_aspect('equal')\n",
    "ax2.set_aspect('equal')\n",
    "fig.show()"
   ]
  },
  {
   "cell_type": "markdown",
   "metadata": {},
   "source": [
    "- 右打者に対してはインサイド高め、アウトローに多く投げられている\n",
    "- 左打者に対してはそもそもサンプルが少ないのもあるが、散らばっている印象"
   ]
  },
  {
   "cell_type": "code",
   "execution_count": 11,
   "metadata": {},
   "outputs": [
    {
     "name": "stderr",
     "output_type": "stream",
     "text": [
      "C:\\Users\\remi\\Anaconda3\\envs\\my_env\\lib\\site-packages\\ipykernel_launcher.py:15: MatplotlibDeprecationWarning: Adding an axes using the same arguments as a previous axes currently reuses the earlier instance.  In a future version, a new instance will always be created and returned.  Meanwhile, this warning can be suppressed, and the future behavior ensured, by passing a unique label to each axes instance.\n",
      "  from ipykernel import kernelapp as app\n"
     ]
    },
    {
     "data": {
      "image/png": "[encoded data removed]",
      "text/plain": [
       "<Figure size 432x288 with 1 Axes>"
      ]
     },
     "metadata": {
      "needs_background": "light"
     },
     "output_type": "display_data"
    }
   ],
   "source": [
    "# 配球\n",
    "fig = plt.figure()\n",
    "ax = fig.add_subplot(111)\n",
    "# ストライクゾーン\n",
    "rect = plt.Rectangle((32,40),96,120,fc=\"#770000\",fill=False)\n",
    "ax.add_patch(rect)\n",
    "\n",
    "# ピクセル値の調整\n",
    "x = ball_distribution[\"left\"]+10\n",
    "y = 200-ball_distribution[\"top\"]-10\n",
    "ax.scatter(x, y,alpha=0.5)\n",
    "plt.xlim(0, 160)\n",
    "plt.ylim(0, 200)\n",
    "# アスペクト比を調節\n",
    "plt.axes().set_aspect('equal')\n",
    "plt.show()"
   ]
  },
  {
   "cell_type": "code",
   "execution_count": 12,
   "metadata": {},
   "outputs": [
    {
     "data": {
      "text/plain": [
       "<matplotlib.legend.Legend at 0x146e24f42b0>"
      ]
     },
     "execution_count": 12,
     "metadata": {},
     "output_type": "execute_result"
    },
    {
     "data": {
      "image/png": "[encoded data removed]",
      "text/plain": [
       "<Figure size 432x288 with 1 Axes>"
      ]
     },
     "metadata": {},
     "output_type": "display_data"
    }
   ],
   "source": [
    "x1 = ball_distribution[\"left\"]+10\n",
    "y1 = 200-ball_distribution[\"top\"]-10\n",
    "#sns.set_style('white')\n",
    "sns.set(style='white',font='Yu Gothic')\n",
    "sns.scatterplot(x=x1,y=y1,hue=\"type\",data=ball_distribution,alpha=0.7)\n",
    "ax = plt.gca()\n",
    "ax.legend(loc=\"upper right\",bbox_to_anchor=(0.35,0.5,1.0,0.05))"
   ]
  },
  {
   "cell_type": "code",
   "execution_count": null,
   "metadata": {},
   "outputs": [],
   "source": []
  }
 ],
 "metadata": {
  "kernelspec": {
   "display_name": "Python 3",
   "language": "python",
   "name": "python3"
  },
  "language_info": {
   "codemirror_mode": {
    "name": "ipython",
    "version": 3
   },
   "file_extension": ".py",
   "mimetype": "text/x-python",
   "name": "python",
   "nbconvert_exporter": "python",
   "pygments_lexer": "ipython3",
   "version": "3.6.10"
  }
 },
 "nbformat": 4,
 "nbformat_minor": 4
}
