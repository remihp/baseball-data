{
 "cells": [
  {
   "cell_type": "code",
   "execution_count": 162,
   "metadata": {},
   "outputs": [],
   "source": [
    "import requests, bs4\n",
    "import re\n",
    "import pandas as pd\n",
    "import time \n",
    "import numpy as np\n",
    "import matplotlib.pyplot as plt\n",
    "import seaborn as sns\n",
    "%matplotlib inline"
   ]
  },
  {
   "cell_type": "markdown",
   "metadata": {},
   "source": [
    "#### データフレーム作成"
   ]
  },
  {
   "cell_type": "code",
   "execution_count": 2,
   "metadata": {},
   "outputs": [],
   "source": [
    "cols = [\"index\",\"top\",\"left\",\"pitcher\",\"batter\",\"batter_rl\",\"type\",\"speed\",\"result\"]\n",
    "ball_distribution = pd.DataFrame(index=[], columns=cols)"
   ]
  },
  {
   "cell_type": "markdown",
   "metadata": {},
   "source": [
    "#### スクレイピング"
   ]
  },
  {
   "cell_type": "code",
   "execution_count": 3,
   "metadata": {},
   "outputs": [
    {
     "name": "stdout",
     "output_type": "stream",
     "text": [
      "1\n",
      "[120100, 83, 66, '大貫 晋一', 'ピレラ', '右', 'スプリット', '136km/h', '\\n                    見逃し\\n                    \\n                    \\n                  ']\n",
      "[120100, 40, 68, '大貫 晋一', 'ピレラ', '右', 'ストレート', '140km/h', '\\n                    右飛\\n                    \\n                    \\n                  ']\n",
      "[120200, 160, 60, '大貫 晋一', '菊池 涼介', '右', 'ツーシーム', '143km/h', '\\n                    ボール\\n                    \\n                    \\n                  ']\n",
      "[120200, 83, 92, '大貫 晋一', '菊池 涼介', '右', 'ツーシーム', '142km/h', '\\n                    ファウル\\n                    \\n                    \\n                  ']\n",
      "[120200, 120, 59, '大貫 晋一', '菊池 涼介', '右', 'ツーシーム', '143km/h', '\\n                    三ゴロ\\n                    \\n                    [バウンド高い]\\n                  ']\n",
      "[120300, 82, 100, '大貫 晋一', '堂林 翔太', '右', 'ツーシーム', '145km/h', '\\n                    一ゴロ\\n                    \\n                    [スライディングキャッチ（一）]\\n                  ']\n",
      "Not Found Error in index=0120400\n",
      "2\n",
      "[220100, 140, 2, '大貫 晋一', '鈴木 誠也', '右', 'カーブ', '113km/h', '\\n                    ボール\\n                    \\n                    \\n                  ']\n",
      "[220100, 159, 12, '大貫 晋一', '鈴木 誠也', '右', 'スライダー', '129km/h', '\\n                    ボール\\n                    \\n                    \\n                  ']\n",
      "[220100, 48, 64, '大貫 晋一', '鈴木 誠也', '右', 'スプリット', '137km/h', '\\n                    見逃し\\n                    \\n                    \\n                  ']\n",
      "[220100, 80, 94, '大貫 晋一', '鈴木 誠也', '右', 'ストレート', '144km/h', '\\n                    中飛\\n                    \\n                    \\n                  ']\n",
      "[220200, 137, 35, '大貫 晋一', '松山 竜平', '左', 'カットボール', '140km/h', '\\n                    見逃し\\n                    \\n                    \\n                  ']\n",
      "[220200, 19, 39, '大貫 晋一', '松山 竜平', '左', 'ストレート', '144km/h', '\\n                    ファウル\\n                    \\n                    \\n                  ']\n",
      "[220200, 39, 132, '大貫 晋一', '松山 竜平', '左', 'スライダー', '131km/h', '\\n                    ボール\\n                    \\n                    \\n                  ']\n",
      "[220200, 131, 98, '大貫 晋一', '松山 竜平', '左', 'スプリット', '139km/h', '\\n                    二ゴロ\\n                    \\n                    \\n                  ']\n",
      "[220300, 22, 93, '大貫 晋一', '會澤 翼', '右', 'カーブ', '115km/h', '\\n                    ボール\\n                    \\n                    \\n                  ']\n",
      "[220300, 141, 64, '大貫 晋一', '會澤 翼', '右', 'カットボール', '139km/h', '\\n                    空振り\\n                    \\n                    \\n                  ']\n",
      "[220300, 139, 36, '大貫 晋一', '會澤 翼', '右', 'ツーシーム', '139km/h', '\\n                    ファウル\\n                    \\n                    \\n                  ']\n",
      "[220300, 47, 29, '大貫 晋一', '會澤 翼', '右', 'ストレート', '145km/h', '\\n                    右飛\\n                    \\n                    \\n                  ']\n",
      "Not Found Error in index=0220400\n",
      "3\n",
      "[320100, 54, 123, '大貫 晋一', '長野 久義', '右', 'ストレート', '142km/h', '\\n                    ボール\\n                    \\n                    \\n                  ']\n",
      "[320100, 78, 31, '大貫 晋一', '長野 久義', '右', 'ストレート', '142km/h', '\\n                    見逃し\\n                    \\n                    \\n                  ']\n",
      "[320100, 163, 11, '大貫 晋一', '長野 久義', '右', 'スライダー', '132km/h', '\\n                    ボール\\n                    \\n                    \\n                  ']\n",
      "[320100, 128, 61, '大貫 晋一', '長野 久義', '右', 'ツーシーム', '143km/h', '\\n                    中安\\n                    \\n                    \\n                  ']\n",
      "[320200, 166, 4, '大貫 晋一', '田中 広輔', '左', 'カーブ', '116km/h', '\\n                    ボール\\n                    \\n                    \\n                  ']\n",
      "[320200, 166, 69, '大貫 晋一', '田中 広輔', '左', 'スプリット', '135km/h', '\\n                    右飛\\n                    \\n                    \\n                  ']\n",
      "[320300, 86, 31, '大貫 晋一', '大瀬良 大地', '右', 'カーブ', '114km/h', '\\n                    見逃し\\n                    \\n                    [バント構え]\\n                  ']\n",
      "[320300, 43, 66, '大貫 晋一', '大瀬良 大地', '右', 'ストレート', '138km/h', '\\n                    捕犠打\\n                    \\n                    \\n                  ']\n",
      "[320400, 52, 122, '大貫 晋一', 'ピレラ', '右', 'ストレート', '141km/h', '\\n                    ボール\\n                    \\n                    \\n                  ']\n",
      "[320400, 164, 26, '大貫 晋一', 'ピレラ', '右', 'スプリット', '136km/h', '\\n                    ボール\\n                    \\n                    \\n                  ']\n",
      "[320400, 11, 72, '大貫 晋一', 'ピレラ', '右', 'スライダー', '128km/h', '\\n                    ボール\\n                    \\n                    \\n                  ']\n",
      "[320400, 92, 37, '大貫 晋一', 'ピレラ', '右', 'ストレート', '143km/h', '\\n                    右飛\\n                    \\n                    \\n                  ']\n",
      "Not Found Error in index=0320500\n",
      "4\n",
      "[420100, 97, 100, '大貫 晋一', '菊池 涼介', '右', 'ストレート', '141km/h', '\\n                    見逃し\\n                    \\n                    \\n                  ']\n",
      "[420100, 139, 27, '大貫 晋一', '菊池 涼介', '右', 'スプリット', '137km/h', '\\n                    ファウル\\n                    \\n                    \\n                  ']\n",
      "[420100, 83, 93, '大貫 晋一', '菊池 涼介', '右', 'ツーシーム', '142km/h', '\\n                    ファウル\\n                    \\n                    \\n                  ']\n",
      "[420100, 136, 5, '大貫 晋一', '菊池 涼介', '右', 'スライダー', '130km/h', '\\n                    投ゴロ\\n                    \\n                    \\n                  ']\n",
      "[420200, 139, 26, '大貫 晋一', '堂林 翔太', '右', 'カーブ', '115km/h', '\\n                    見逃し\\n                    \\n                    \\n                  ']\n",
      "[420200, 157, 12, '大貫 晋一', '堂林 翔太', '右', 'スライダー', '131km/h', '\\n                    ボール\\n                    \\n                    \\n                  ']\n",
      "[420200, 62, 63, '大貫 晋一', '堂林 翔太', '右', 'スプリット', '138km/h', '\\n                    三ゴロ\\n                    \\n                    [バウンド高い、送球がバウンド（三）]\\n                  ']\n",
      "[420300, 157, 12, '大貫 晋一', '鈴木 誠也', '右', 'ストレート', '144km/h', '\\n                    ボール\\n                    \\n                    \\n                  ']\n",
      "[420300, 170, 13, '大貫 晋一', '鈴木 誠也', '右', 'ストレート', '143km/h', '\\n                    ボール\\n                    \\n                    \\n                  ']\n",
      "[420300, 95, 42, '大貫 晋一', '鈴木 誠也', '右', 'スプリット', '137km/h', '\\n                    左２\\n                    \\n                    \\n                  ']\n",
      "[420400, 98, 65, '大貫 晋一', '松山 竜平', '左', 'スライダー', '130km/h', '\\n                    見逃し\\n                    \\n                    \\n                  ']\n",
      "[420400, 166, 36, '大貫 晋一', '松山 竜平', '左', 'ツーシーム', '139km/h', '\\n                    右２\\n                    \\n                    [フェンス直撃]\\n                  ']\n",
      "[420500, 56, 71, '大貫 晋一', '會澤 翼', '右', 'カットボール', '138km/h', '\\n                    見逃し\\n                    \\n                    \\n                  ']\n",
      "[420500, 162, 28, '大貫 晋一', '會澤 翼', '右', 'スプリット', '139km/h', '\\n                    ファウル\\n                    \\n                    [捕手悶絶]\\n                  ']\n",
      "[420500, 136, 8, '大貫 晋一', '會澤 翼', '右', 'スライダー', '131km/h', '\\n                    空三振\\n                    \\n                    \\n                  ']\n",
      "Not Found Error in index=0420600\n",
      "5\n",
      "[520100, 95, 36, '大貫 晋一', '長野 久義', '右', 'スライダー', '130km/h', '\\n                    見逃し\\n                    \\n                    \\n                  ']\n",
      "[520100, 59, 29, '大貫 晋一', '長野 久義', '右', 'カットボール', '138km/h', '\\n                    見逃し\\n                    \\n                    \\n                  ']\n",
      "[520100, 176, 11, '大貫 晋一', '長野 久義', '右', 'スプリット', '138km/h', '\\n                    ボール\\n                    \\n                    [ワンバウンド]\\n                  ']\n",
      "[520100, 137, 32, '大貫 晋一', '長野 久義', '右', 'ツーシーム', '143km/h', '\\n                    遊ゴロ\\n                    \\n                    \\n                  ']\n",
      "[520200, 137, 106, '大貫 晋一', '田中 広輔', '左', 'スライダー', '131km/h', '\\n                    見逃し\\n                    \\n                    \\n                  ']\n",
      "[520200, 77, 29, '大貫 晋一', '田中 広輔', '左', 'ツーシーム', '143km/h', '\\n                    ファウル\\n                    \\n                    \\n                  ']\n",
      "[520200, 47, 100, '大貫 晋一', '田中 広輔', '左', 'カットボール', '137km/h', '\\n                    空三振\\n                    \\n                    \\n                  ']\n",
      "[520300, 19, 130, '大貫 晋一', '大盛 穂', '左', 'カーブ', '122km/h', '\\n                    ボール\\n                    \\n                    \\n                  ']\n",
      "[520300, 143, 66, '大貫 晋一', '大盛 穂', '左', 'カットボール', '141km/h', '\\n                    中安\\n                    \\n                    \\n                  ']\n"
     ]
    },
    {
     "name": "stdout",
     "output_type": "stream",
     "text": [
      "[520400, 37, 31, '大貫 晋一', 'ピレラ', '右', 'スライダー', '128km/h', '\\n                    見逃し\\n                    \\n                    \\n                  ']\n",
      "[520400, 159, 29, '大貫 晋一', 'ピレラ', '右', 'スプリット', '137km/h', '\\n                    ボール\\n                    \\n                    \\n                  ']\n",
      "[520400, 87, 61, '大貫 晋一', 'ピレラ', '右', 'ストレート', '141km/h', '\\n                    中飛\\n                    \\n                    \\n                  ']\n",
      "Not Found Error in index=0520500\n",
      "6\n",
      "[620100, 22, 126, '大貫 晋一', '菊池 涼介', '右', 'ツーシーム', '140km/h', '\\n                    ボール\\n                    \\n                    \\n                  ']\n",
      "[620100, 56, 68, '大貫 晋一', '菊池 涼介', '右', 'ツーシーム', '141km/h', '\\n                    中飛\\n                    \\n                    \\n                  ']\n",
      "[620200, 60, 32, '大貫 晋一', '堂林 翔太', '右', 'ストレート', '145km/h', '\\n                    見逃し\\n                    \\n                    \\n                  ']\n",
      "[620200, 135, 29, '大貫 晋一', '堂林 翔太', '右', 'スプリット', '136km/h', '\\n                    ファウル\\n                    \\n                    \\n                  ']\n",
      "[620200, 164, 64, '大貫 晋一', '堂林 翔太', '右', 'スプリット', '135km/h', '\\n                    空三振\\n                    \\n                    \\n                  ']\n",
      "[620300, 163, 2, '大貫 晋一', '鈴木 誠也', '右', 'カットボール', '139km/h', '\\n                    ボール\\n                    \\n                    \\n                  ']\n",
      "[620300, 100, 28, '大貫 晋一', '鈴木 誠也', '右', 'ストレート', '144km/h', '\\n                    二ゴロ\\n                    \\n                    \\n                  ']\n",
      "Not Found Error in index=0620400\n",
      "7\n",
      "[720100, 155, 96, '大貫 晋一', '松山 竜平', '左', 'ストレート', '141km/h', '\\n                    ボール\\n                    \\n                    \\n                  ']\n",
      "[720100, 127, 108, '大貫 晋一', '松山 竜平', '左', 'ストレート', '143km/h', '\\n                    ファウル\\n                    \\n                    \\n                  ']\n",
      "[720100, 61, 26, '大貫 晋一', '松山 竜平', '左', 'カットボール', '136km/h', '\\n                    ファウル\\n                    \\n                    \\n                  ']\n",
      "[720100, 164, 32, '大貫 晋一', '松山 竜平', '左', 'スプリット', '135km/h', '\\n                    ファウル\\n                    \\n                    \\n                  ']\n",
      "[720100, 48, 8, '大貫 晋一', '松山 竜平', '左', 'ストレート', '144km/h', '\\n                    ファウル\\n                    \\n                    \\n                  ']\n",
      "[720100, 158, 121, '大貫 晋一', '松山 竜平', '左', 'カーブ', '124km/h', '\\n                    ボール\\n                    \\n                    \\n                  ']\n",
      "[720100, 142, 68, '大貫 晋一', '松山 竜平', '左', 'スライダー', '130km/h', '\\n                    ファウル\\n                    \\n                    \\n                  ']\n",
      "[720100, 166, 74, '大貫 晋一', '松山 竜平', '左', 'スプリット', '136km/h', '\\n                    三ゴロ\\n                    \\n                    \\n                  ']\n",
      "[720200, 185, 10, '大貫 晋一', '會澤 翼', '右', 'スライダー', '130km/h', '\\n                    ボール\\n                    \\n                    [ワンバウンド]\\n                  ']\n",
      "[720200, 131, 25, '大貫 晋一', '會澤 翼', '右', 'カットボール', '138km/h', '\\n                    空振り\\n                    \\n                    \\n                  ']\n",
      "[720200, 60, 64, '大貫 晋一', '會澤 翼', '右', 'ツーシーム', '143km/h', '\\n                    遊ゴロ\\n                    \\n                    \\n                  ']\n",
      "[720300, 158, 9, '大貫 晋一', 'メヒア', '右', 'カーブ', '112km/h', '\\n                    ボール\\n                    \\n                    \\n                  ']\n",
      "[720300, 99, 94, '大貫 晋一', 'メヒア', '右', 'スプリット', '135km/h', '\\n                    左２\\n                    \\n                    \\n                  ']\n",
      "[720400, 56, 107, '大貫 晋一', '田中 広輔', '左', 'ツーシーム', '143km/h', '\\n                    左邪飛\\n                    \\n                    [ジャンピングキャッチ（左）]\\n                  ']\n",
      "Not Found Error in index=0720500\n",
      "8\n",
      "[820100, 96, 69, '大貫 晋一', '大盛 穂', '左', 'スライダー', '128km/h', '\\n                    見逃し\\n                    \\n                    \\n                  ']\n",
      "[820100, 161, 94, '大貫 晋一', '大盛 穂', '左', 'スプリット', '134km/h', '\\n                    空振り\\n                    \\n                    \\n                  ']\n",
      "[820100, 120, 62, '大貫 晋一', '大盛 穂', '左', 'スプリット', '137km/h', '\\n                    ファウル\\n                    \\n                    \\n                  ']\n",
      "[820100, 171, 101, '大貫 晋一', '大盛 穂', '左', 'スプリット', '137km/h', '\\n                    ボール\\n                    \\n                    [ワンバウンド]\\n                  ']\n",
      "[820100, 168, 68, '大貫 晋一', '大盛 穂', '左', 'スプリット', '137km/h', '\\n                    ファウル\\n                    \\n                    \\n                  ']\n",
      "[820100, 168, 30, '大貫 晋一', '大盛 穂', '左', 'スライダー', '131km/h', '\\n                    ボール\\n                    \\n                    [ワンバウンド]\\n                  ']\n",
      "[820100, 130, 30, '大貫 晋一', '大盛 穂', '左', 'スプリット', '137km/h', '\\n                    ファウル\\n                    \\n                    [自打球]\\n                  ']\n",
      "[820100, 101, 28, '大貫 晋一', '大盛 穂', '左', 'スプリット', '136km/h', '\\n                    二ゴロ\\n                    \\n                    \\n                  ']\n",
      "[820200, 166, 97, '大貫 晋一', 'ピレラ', '右', 'スプリット', '135km/h', '\\n                    空振り\\n                    \\n                    \\n                  ']\n",
      "[820200, 9, 102, '大貫 晋一', 'ピレラ', '右', 'ストレート', '139km/h', '\\n                    空振り\\n                    \\n                    [高めのつり球を要求、ハーフスイング]\\n                  ']\n",
      "[820200, 164, 67, '大貫 晋一', 'ピレラ', '右', 'スプリット', '137km/h', '\\n                    左安\\n                    \\n                    \\n                  ']\n",
      "[820300, 124, 104, '大貫 晋一', '桒原 樹', '左', 'スライダー', '129km/h', '\\n                    見逃し\\n                    \\n                    \\n                  ']\n",
      "[820300, 81, 107, '大貫 晋一', '桒原 樹', '左', 'スプリット', '135km/h', '\\n                    三飛\\n                    \\n                    \\n                  ']\n",
      "[820400, 57, 38, '大貫 晋一', '堂林 翔太', '右', 'カットボール', '136km/h', '\\n                    見逃し\\n                    \\n                    \\n                  ']\n",
      "[820400, 50, 30, '大貫 晋一', '堂林 翔太', '右', 'カットボール', '137km/h', '\\n                    空振り\\n                    \\n                    \\n                  ']\n",
      "[820400, 172, 8, '大貫 晋一', '堂林 翔太', '右', 'スプリット', '136km/h', '\\n                    ボール\\n                    \\n                    [ワンバウンド]\\n                  ']\n",
      "[820400, 157, 29, '大貫 晋一', '堂林 翔太', '右', 'スプリット', '136km/h', '\\n                    空三振\\n                    \\n                    \\n                  ']\n",
      "Not Found Error in index=0820500\n",
      "9\n",
      "[920100, 83, 66, '大貫 晋一', '鈴木 誠也', '右', 'スプリット', '134km/h', '\\n                    見逃し\\n                    \\n                    \\n                  ']\n",
      "[920100, 101, 30, '大貫 晋一', '鈴木 誠也', '右', 'カットボール', '137km/h', '\\n                    遊ゴロ\\n                    \\n                    \\n                  ']\n",
      "[920200, 57, 27, '大貫 晋一', '白濱 裕太', '右', 'スライダー', '127km/h', '\\n                    見逃し\\n                    \\n                    \\n                  ']\n",
      "[920200, 128, 27, '大貫 晋一', '白濱 裕太', '右', 'カットボール', '137km/h', '\\n                    ファウル\\n                    \\n                    \\n                  ']\n",
      "[920200, 60, 11, '大貫 晋一', '白濱 裕太', '右', 'ストレート', '143km/h', '\\n                    ボール\\n                    \\n                    \\n                  ']\n",
      "[920200, 59, 63, '大貫 晋一', '白濱 裕太', '右', 'ツーシーム', '143km/h', '\\n                    遊ゴロ\\n                    \\n                    \\n                  ']\n",
      "[920300, 8, 60, '大貫 晋一', '坂倉 将吾', '左', 'ストレート', '144km/h', '\\n                    ボール\\n                    \\n                    \\n                  ']\n",
      "[920300, 158, 64, '大貫 晋一', '坂倉 将吾', '左', 'スプリット', '136km/h', '\\n                    ボール\\n                    \\n                    \\n                  ']\n",
      "[920300, 57, 100, '大貫 晋一', '坂倉 将吾', '左', 'ツーシーム', '143km/h', '\\n                    見逃し\\n                    \\n                    \\n                  ']\n",
      "[920300, 80, 64, '大貫 晋一', '坂倉 将吾', '左', 'ツーシーム', '143km/h', '\\n                    右安\\n                    \\n                    \\n                  ']\n",
      "[920400, 80, 104, '大貫 晋一', 'メヒア', '右', 'ツーシーム', '142km/h', '\\n                    見逃し\\n                    \\n                    \\n                  ']\n",
      "[920400, 91, 103, '大貫 晋一', 'メヒア', '右', 'ストレート', '140km/h', '\\n                    左安\\n                    \\n                    \\n                  ']\n"
     ]
    },
    {
     "name": "stdout",
     "output_type": "stream",
     "text": [
      "[920500, 59, 122, '大貫 晋一', '田中 広輔', '左', 'スライダー', '130km/h', '\\n                    ボール\\n                    \\n                    \\n                  ']\n",
      "[920500, 100, 102, '大貫 晋一', '田中 広輔', '左', 'ツーシーム', '141km/h', '\\n                    空振り\\n                    \\n                    \\n                  ']\n",
      "[920500, 174, 104, '大貫 晋一', '田中 広輔', '左', 'スプリット', '135km/h', '\\n                    空振り\\n                    \\n                    [ワンバウンド]\\n                  ']\n",
      "[920500, 129, 76, '大貫 晋一', '田中 広輔', '左', 'スプリット', '137km/h', '\\n                    中飛\\n                    \\n                    \\n                  ']\n",
      "Not Found Error in index=0920600\n",
      "10\n",
      "Not Found Error in index=01020100\n"
     ]
    }
   ],
   "source": [
    "# index : 1回裏：0120100,0120200,...2回裏：0220100,0220200,...\n",
    "for inning in range(1,11): #1-10回\n",
    "    print(inning)\n",
    "    for b_count in range(100,10000,100): #打席\n",
    "        url= 'https://baseball.yahoo.co.jp/npb/game/2020090503/score?index=0{}20{}'.format(inning,b_count)\n",
    "        #print(url)\n",
    "        index = re.search(r'index=\\d+', url)\n",
    "        res = requests.get(url)\n",
    "\n",
    "        try:\n",
    "            res.raise_for_status() \n",
    "        except requests.exceptions.RequestException:\n",
    "            print('Not Found Error in {}'.format(index.group())) #Not Foundエラーが出たらその回は終わったとみなす\n",
    "            break\n",
    "\n",
    "\n",
    "        soup = bs4.BeautifulSoup(res.text, \"html.parser\")\n",
    "        elems = soup.select('.bb-icon__ballCircle')\n",
    "        elems1 = soup.select('#gm_rslt .bb-splitsTable__data a') #投手、打者\n",
    "        elems2 = soup.select('.bb-splitsTable__data--ballType') #球種\n",
    "        elems3 = soup.select('.bb-splitsTable__data--speed') #球速\n",
    "        elems4 = soup.select('.bb-splitsTable__data--result') #結果\n",
    "        elems5 = soup.select('#gm_rslt .bb-splitsTable__data') #打者左右\n",
    "        #print(elems)\n",
    "        for elem,elem2,elem3,elem4 in zip(elems,elems2,elems3,elems4):\n",
    "            s = str(elem)\n",
    "            ball_type = elem2.string\n",
    "            ball_speed = elem3.string\n",
    "            top = re.search(r'top:\\d+px', s)\n",
    "            left = re.search(r'left:\\d+px', s)\n",
    "            batter = elems1[0].string\n",
    "            pitcher = elems1[1].string\n",
    "            result = elem4.text\n",
    "            rl = elems5[1].string\n",
    "            #print(s1)  #投手、打者\n",
    "            if top != None and left != None:    \n",
    "                #print(s1)\n",
    "                #print([int(index.group()[6:]),int(top.group()[4:][:-2]),int(left.group()[5:][:-2]),pitcher,batter,rl,ball_type,ball_speed,result])\n",
    "                ball_distribution.loc[len(ball_distribution)] = [int(index.group()[6:]),int(top.group()[4:][:-2]),int(left.group()[5:][:-2]),pitcher,batter,rl,ball_type,ball_speed[:-4],result]\n",
    "        time.sleep(1)"
   ]
  },
  {
   "cell_type": "code",
   "execution_count": 153,
   "metadata": {},
   "outputs": [
    {
     "data": {
      "text/html": [
       "<div>\n",
       "<style scoped>\n",
       "    .dataframe tbody tr th:only-of-type {\n",
       "        vertical-align: middle;\n",
       "    }\n",
       "\n",
       "    .dataframe tbody tr th {\n",
       "        vertical-align: top;\n",
       "    }\n",
       "\n",
       "    .dataframe thead th {\n",
       "        text-align: right;\n",
       "    }\n",
       "</style>\n",
       "<table border=\"1\" class=\"dataframe\">\n",
       "  <thead>\n",
       "    <tr style=\"text-align: right;\">\n",
       "      <th></th>\n",
       "      <th>index</th>\n",
       "      <th>top</th>\n",
       "      <th>left</th>\n",
       "      <th>pitcher</th>\n",
       "      <th>batter</th>\n",
       "      <th>batter_rl</th>\n",
       "      <th>type</th>\n",
       "      <th>speed</th>\n",
       "      <th>result</th>\n",
       "    </tr>\n",
       "  </thead>\n",
       "  <tbody>\n",
       "    <tr>\n",
       "      <th>0</th>\n",
       "      <td>120100</td>\n",
       "      <td>83</td>\n",
       "      <td>66</td>\n",
       "      <td>大貫 晋一</td>\n",
       "      <td>ピレラ</td>\n",
       "      <td>右</td>\n",
       "      <td>スプリット</td>\n",
       "      <td>136</td>\n",
       "      <td>見逃し</td>\n",
       "    </tr>\n",
       "    <tr>\n",
       "      <th>1</th>\n",
       "      <td>120100</td>\n",
       "      <td>40</td>\n",
       "      <td>68</td>\n",
       "      <td>大貫 晋一</td>\n",
       "      <td>ピレラ</td>\n",
       "      <td>右</td>\n",
       "      <td>ストレート</td>\n",
       "      <td>140</td>\n",
       "      <td>右飛</td>\n",
       "    </tr>\n",
       "    <tr>\n",
       "      <th>2</th>\n",
       "      <td>120200</td>\n",
       "      <td>160</td>\n",
       "      <td>60</td>\n",
       "      <td>大貫 晋一</td>\n",
       "      <td>菊池 涼介</td>\n",
       "      <td>右</td>\n",
       "      <td>ツーシーム</td>\n",
       "      <td>143</td>\n",
       "      <td>ボール</td>\n",
       "    </tr>\n",
       "    <tr>\n",
       "      <th>3</th>\n",
       "      <td>120200</td>\n",
       "      <td>83</td>\n",
       "      <td>92</td>\n",
       "      <td>大貫 晋一</td>\n",
       "      <td>菊池 涼介</td>\n",
       "      <td>右</td>\n",
       "      <td>ツーシーム</td>\n",
       "      <td>142</td>\n",
       "      <td>ファウル</td>\n",
       "    </tr>\n",
       "    <tr>\n",
       "      <th>4</th>\n",
       "      <td>120200</td>\n",
       "      <td>120</td>\n",
       "      <td>59</td>\n",
       "      <td>大貫 晋一</td>\n",
       "      <td>菊池 涼介</td>\n",
       "      <td>右</td>\n",
       "      <td>ツーシーム</td>\n",
       "      <td>143</td>\n",
       "      <td>三ゴロ</td>\n",
       "    </tr>\n",
       "    <tr>\n",
       "      <th>...</th>\n",
       "      <td>...</td>\n",
       "      <td>...</td>\n",
       "      <td>...</td>\n",
       "      <td>...</td>\n",
       "      <td>...</td>\n",
       "      <td>...</td>\n",
       "      <td>...</td>\n",
       "      <td>...</td>\n",
       "      <td>...</td>\n",
       "    </tr>\n",
       "    <tr>\n",
       "      <th>106</th>\n",
       "      <td>920400</td>\n",
       "      <td>91</td>\n",
       "      <td>103</td>\n",
       "      <td>大貫 晋一</td>\n",
       "      <td>メヒア</td>\n",
       "      <td>右</td>\n",
       "      <td>ストレート</td>\n",
       "      <td>140</td>\n",
       "      <td>左安</td>\n",
       "    </tr>\n",
       "    <tr>\n",
       "      <th>107</th>\n",
       "      <td>920500</td>\n",
       "      <td>59</td>\n",
       "      <td>122</td>\n",
       "      <td>大貫 晋一</td>\n",
       "      <td>田中 広輔</td>\n",
       "      <td>左</td>\n",
       "      <td>スライダー</td>\n",
       "      <td>130</td>\n",
       "      <td>ボール</td>\n",
       "    </tr>\n",
       "    <tr>\n",
       "      <th>108</th>\n",
       "      <td>920500</td>\n",
       "      <td>100</td>\n",
       "      <td>102</td>\n",
       "      <td>大貫 晋一</td>\n",
       "      <td>田中 広輔</td>\n",
       "      <td>左</td>\n",
       "      <td>ツーシーム</td>\n",
       "      <td>141</td>\n",
       "      <td>空振り</td>\n",
       "    </tr>\n",
       "    <tr>\n",
       "      <th>109</th>\n",
       "      <td>920500</td>\n",
       "      <td>174</td>\n",
       "      <td>104</td>\n",
       "      <td>大貫 晋一</td>\n",
       "      <td>田中 広輔</td>\n",
       "      <td>左</td>\n",
       "      <td>スプリット</td>\n",
       "      <td>135</td>\n",
       "      <td>空振り</td>\n",
       "    </tr>\n",
       "    <tr>\n",
       "      <th>110</th>\n",
       "      <td>920500</td>\n",
       "      <td>129</td>\n",
       "      <td>76</td>\n",
       "      <td>大貫 晋一</td>\n",
       "      <td>田中 広輔</td>\n",
       "      <td>左</td>\n",
       "      <td>スプリット</td>\n",
       "      <td>137</td>\n",
       "      <td>中飛</td>\n",
       "    </tr>\n",
       "  </tbody>\n",
       "</table>\n",
       "<p>111 rows × 9 columns</p>\n",
       "</div>"
      ],
      "text/plain": [
       "      index  top  left pitcher batter batter_rl   type  speed result\n",
       "0    120100   83    66   大貫 晋一    ピレラ         右  スプリット    136    見逃し\n",
       "1    120100   40    68   大貫 晋一    ピレラ         右  ストレート    140     右飛\n",
       "2    120200  160    60   大貫 晋一  菊池 涼介         右  ツーシーム    143    ボール\n",
       "3    120200   83    92   大貫 晋一  菊池 涼介         右  ツーシーム    142   ファウル\n",
       "4    120200  120    59   大貫 晋一  菊池 涼介         右  ツーシーム    143    三ゴロ\n",
       "..      ...  ...   ...     ...    ...       ...    ...    ...    ...\n",
       "106  920400   91   103   大貫 晋一    メヒア         右  ストレート    140     左安\n",
       "107  920500   59   122   大貫 晋一  田中 広輔         左  スライダー    130    ボール\n",
       "108  920500  100   102   大貫 晋一  田中 広輔         左  ツーシーム    141    空振り\n",
       "109  920500  174   104   大貫 晋一  田中 広輔         左  スプリット    135    空振り\n",
       "110  920500  129    76   大貫 晋一  田中 広輔         左  スプリット    137     中飛\n",
       "\n",
       "[111 rows x 9 columns]"
      ]
     },
     "execution_count": 153,
     "metadata": {},
     "output_type": "execute_result"
    }
   ],
   "source": [
    "ball_distribution"
   ]
  },
  {
   "cell_type": "code",
   "execution_count": 152,
   "metadata": {},
   "outputs": [],
   "source": [
    "# 型変換\n",
    "ball_distribution[\"top\"] = ball_distribution[\"top\"].astype(int)\n",
    "ball_distribution[\"left\"] = ball_distribution[\"left\"].astype(int)\n",
    "ball_distribution[\"speed\"] = ball_distribution[\"speed\"].astype(int)\n",
    "# 空白、改行、[]削除\n",
    "ball_distribution[\"result\"] = ball_distribution[\"result\"].str.replace(\" \",\"\").str.replace(\"\\n\",\"\").str.replace(r\"\\[.+\\]\",\"\")"
   ]
  },
  {
   "cell_type": "code",
   "execution_count": 146,
   "metadata": {},
   "outputs": [
    {
     "data": {
      "text/plain": [
       "スプリット     31\n",
       "ストレート     22\n",
       "ツーシーム     19\n",
       "スライダー     18\n",
       "カットボール    13\n",
       "カーブ        8\n",
       "Name: type, dtype: int64"
      ]
     },
     "execution_count": 146,
     "metadata": {},
     "output_type": "execute_result"
    }
   ],
   "source": [
    "# 球種\n",
    "ball_distribution[\"type\"].value_counts()"
   ]
  },
  {
   "cell_type": "code",
   "execution_count": 154,
   "metadata": {},
   "outputs": [
    {
     "data": {
      "text/plain": [
       "ボール     30\n",
       "見逃し     21\n",
       "ファウル    17\n",
       "空振り      8\n",
       "空三振      4\n",
       "遊ゴロ      4\n",
       "右飛       4\n",
       "中飛       4\n",
       "三ゴロ      3\n",
       "二ゴロ      3\n",
       "左２       2\n",
       "左安       2\n",
       "中安       2\n",
       "右安       1\n",
       "三飛       1\n",
       "右２       1\n",
       "一ゴロ      1\n",
       "投ゴロ      1\n",
       "左邪飛      1\n",
       "捕犠打      1\n",
       "Name: result, dtype: int64"
      ]
     },
     "execution_count": 154,
     "metadata": {},
     "output_type": "execute_result"
    }
   ],
   "source": [
    "# 結果\n",
    "ball_distribution[\"result\"].value_counts()"
   ]
  },
  {
   "cell_type": "markdown",
   "metadata": {},
   "source": [
    "#### 配球を散布図にする\n",
    "- htmlからストライクゾーンを推定して描画"
   ]
  },
  {
   "cell_type": "code",
   "execution_count": 155,
   "metadata": {},
   "outputs": [
    {
     "name": "stderr",
     "output_type": "stream",
     "text": [
      "C:\\Users\\remi\\Anaconda3\\envs\\my_env\\lib\\site-packages\\ipykernel_launcher.py:15: MatplotlibDeprecationWarning: Adding an axes using the same arguments as a previous axes currently reuses the earlier instance.  In a future version, a new instance will always be created and returned.  Meanwhile, this warning can be suppressed, and the future behavior ensured, by passing a unique label to each axes instance.\n",
      "  from ipykernel import kernelapp as app\n"
     ]
    },
    {
     "data": {
      "image/png": "[encoded data removed]",
      "text/plain": [
       "<Figure size 432x288 with 1 Axes>"
      ]
     },
     "metadata": {
      "needs_background": "light"
     },
     "output_type": "display_data"
    }
   ],
   "source": [
    "# 配球\n",
    "fig = plt.figure()\n",
    "ax = fig.add_subplot(111)\n",
    "# ストライクゾーン\n",
    "rect = plt.Rectangle((32,40),96,120,fc=\"#770000\",fill=False)\n",
    "ax.add_patch(rect)\n",
    "\n",
    "# ピクセル値の調整\n",
    "x = ball_distribution[\"left\"]+10\n",
    "y = 200-ball_distribution[\"top\"]-10\n",
    "ax.scatter(x, y,alpha=0.5)\n",
    "plt.xlim(0, 160)\n",
    "plt.ylim(0, 200)\n",
    "# アスペクト比を調節\n",
    "plt.axes().set_aspect('equal')\n",
    "plt.show()"
   ]
  },
  {
   "cell_type": "markdown",
   "metadata": {},
   "source": [
    "- ライン上に球が来ていないのはサイトの都合と思われる"
   ]
  },
  {
   "cell_type": "markdown",
   "metadata": {},
   "source": [
    "#### ストライクゾーンの確認\n",
    "- 念のためボール判定のボールを確認"
   ]
  },
  {
   "cell_type": "code",
   "execution_count": 156,
   "metadata": {},
   "outputs": [
    {
     "name": "stderr",
     "output_type": "stream",
     "text": [
      "C:\\Users\\remi\\Anaconda3\\envs\\my_env\\lib\\site-packages\\ipykernel_launcher.py:20: MatplotlibDeprecationWarning: Adding an axes using the same arguments as a previous axes currently reuses the earlier instance.  In a future version, a new instance will always be created and returned.  Meanwhile, this warning can be suppressed, and the future behavior ensured, by passing a unique label to each axes instance.\n",
      "C:\\Users\\remi\\Anaconda3\\envs\\my_env\\lib\\site-packages\\ipykernel_launcher.py:27: UserWarning: Matplotlib is currently using module://ipykernel.pylab.backend_inline, which is a non-GUI backend, so cannot show the figure.\n"
     ]
    },
    {
     "data": {
      "image/png": "[encoded data removed]",
      "text/plain": [
       "<Figure size 432x288 with 1 Axes>"
      ]
     },
     "metadata": {
      "needs_background": "light"
     },
     "output_type": "display_data"
    }
   ],
   "source": [
    "ballzone = ball_distribution[ball_distribution[\"result\"]==\"ボール\"]\n",
    "strike_out = ball_distribution[ball_distribution[\"result\"]!=\"ボール\"]\n",
    "\n",
    "x1 = ballzone[\"left\"]+10\n",
    "y1 = 200-ballzone[\"top\"]-10\n",
    "\n",
    "x2 = strike_out[\"left\"]+10\n",
    "y2 = 200-strike_out[\"top\"]-10\n",
    "\n",
    "fig = plt.figure()\n",
    "ax = fig.add_subplot(111)\n",
    "rect = plt.Rectangle((32,40),96,120,fill=False) #ストライクゾーン\n",
    "ax.add_patch(rect)\n",
    "\n",
    "ax.scatter(x1, y1,alpha=0.5,label=\"ball\")\n",
    "ax.scatter(x2, y2,alpha=0.5,label=\"not ball\")\n",
    "\n",
    "plt.xlim(0, 160)\n",
    "plt.ylim(0, 200)\n",
    "plt.axes().set_aspect('equal')\n",
    "\n",
    "ax.set_title('ball or not ball')\n",
    "ax.set_xlabel('x')\n",
    "ax.set_ylabel('y')\n",
    "\n",
    "ax.legend(loc='best')\n",
    "fig.show()\n"
   ]
  },
  {
   "cell_type": "markdown",
   "metadata": {},
   "source": [
    "- ボール判定された球がストライクゾーンの枠の外にあることが確認できた"
   ]
  },
  {
   "cell_type": "markdown",
   "metadata": {},
   "source": [
    "#### 左右打者の比較"
   ]
  },
  {
   "cell_type": "code",
   "execution_count": 157,
   "metadata": {},
   "outputs": [
    {
     "name": "stderr",
     "output_type": "stream",
     "text": [
      "C:\\Users\\remi\\Anaconda3\\envs\\my_env\\lib\\site-packages\\ipykernel_launcher.py:32: UserWarning: Matplotlib is currently using module://ipykernel.pylab.backend_inline, which is a non-GUI backend, so cannot show the figure.\n"
     ]
    },
    {
     "data": {
      "image/png": "[encoded data removed]",
      "text/plain": [
       "<Figure size 432x288 with 2 Axes>"
      ]
     },
     "metadata": {
      "needs_background": "light"
     },
     "output_type": "display_data"
    }
   ],
   "source": [
    "rightbatter = ball_distribution[ball_distribution[\"batter_rl\"]==\"右\"]\n",
    "leftbatter = ball_distribution[ball_distribution[\"batter_rl\"]==\"左\"]\n",
    "\n",
    "\n",
    "x1 = rightbatter[\"left\"]+10\n",
    "y1 = 200-rightbatter[\"top\"]-10\n",
    "\n",
    "x2 = leftbatter[\"left\"]+10\n",
    "y2 = 200-leftbatter[\"top\"]-10\n",
    "\n",
    "fig = plt.figure()\n",
    "ax1 = fig.add_subplot(1, 2, 1)\n",
    "ax2 = fig.add_subplot(1, 2, 2)\n",
    "rect1 = plt.Rectangle((32,40),96,120,fill=False)\n",
    "rect2 = plt.Rectangle((32,40),96,120,fill=False)\n",
    "ax1.add_patch(rect1)\n",
    "ax2.add_patch(rect2)\n",
    "\n",
    "ax1.scatter(x1, y1,alpha=0.5)\n",
    "ax2.scatter(x2, y2,alpha=0.5)\n",
    "\n",
    "ax1.set_title('right batter')\n",
    "ax2.set_title('left batter')\n",
    "\n",
    "ax1.set_xlim(0, 160)\n",
    "ax1.set_ylim(0, 200)\n",
    "ax2.set_xlim(0, 160)\n",
    "ax2.set_ylim(0, 200)\n",
    "\n",
    "ax1.set_aspect('equal')\n",
    "ax2.set_aspect('equal')\n",
    "fig.show()"
   ]
  },
  {
   "cell_type": "markdown",
   "metadata": {},
   "source": [
    "- 右打者に対してはインサイド高め、アウトローに多く投げられている\n",
    "- 左打者に対してはそもそもサンプルが少ないのもあるが、散らばっている印象"
   ]
  },
  {
   "cell_type": "code",
   "execution_count": 159,
   "metadata": {},
   "outputs": [
    {
     "name": "stderr",
     "output_type": "stream",
     "text": [
      "C:\\Users\\remi\\Anaconda3\\envs\\my_env\\lib\\site-packages\\ipykernel_launcher.py:15: MatplotlibDeprecationWarning: Adding an axes using the same arguments as a previous axes currently reuses the earlier instance.  In a future version, a new instance will always be created and returned.  Meanwhile, this warning can be suppressed, and the future behavior ensured, by passing a unique label to each axes instance.\n",
      "  from ipykernel import kernelapp as app\n"
     ]
    },
    {
     "data": {
      "image/png": "[encoded data removed]",
      "text/plain": [
       "<Figure size 432x288 with 1 Axes>"
      ]
     },
     "metadata": {
      "needs_background": "light"
     },
     "output_type": "display_data"
    }
   ],
   "source": [
    "# 配球\n",
    "fig = plt.figure()\n",
    "ax = fig.add_subplot(111)\n",
    "# ストライクゾーン\n",
    "rect = plt.Rectangle((32,40),96,120,fc=\"#770000\",fill=False)\n",
    "ax.add_patch(rect)\n",
    "\n",
    "# ピクセル値の調整\n",
    "x = ball_distribution[\"left\"]+10\n",
    "y = 200-ball_distribution[\"top\"]-10\n",
    "ax.scatter(x, y,alpha=0.5)\n",
    "plt.xlim(0, 160)\n",
    "plt.ylim(0, 200)\n",
    "# アスペクト比を調節\n",
    "plt.axes().set_aspect('equal')\n",
    "plt.show()"
   ]
  },
  {
   "cell_type": "code",
   "execution_count": 211,
   "metadata": {},
   "outputs": [
    {
     "data": {
      "text/plain": [
       "<matplotlib.legend.Legend at 0x1466fda9cc0>"
      ]
     },
     "execution_count": 211,
     "metadata": {},
     "output_type": "execute_result"
    },
    {
     "data": {
      "image/png": "[encoded data removed]",
      "text/plain": [
       "<Figure size 432x288 with 1 Axes>"
      ]
     },
     "metadata": {},
     "output_type": "display_data"
    }
   ],
   "source": [
    "x1 = ball_distribution[\"left\"]+10\n",
    "y1 = 200-ball_distribution[\"top\"]-10\n",
    "#sns.set_style('white')\n",
    "sns.set(style='white',font='Yu Gothic')\n",
    "sns.scatterplot(x=x1,y=y1,hue=\"type\",data=ball_distribution,alpha=0.7)\n",
    "ax = plt.gca()\n",
    "ax.legend(loc=\"upper right\",bbox_to_anchor=(0.35,0.5,1.0,0.05))"
   ]
  },
  {
   "cell_type": "code",
   "execution_count": null,
   "metadata": {},
   "outputs": [],
   "source": []
  }
 ],
 "metadata": {
  "kernelspec": {
   "display_name": "Python 3",
   "language": "python",
   "name": "python3"
  },
  "language_info": {
   "codemirror_mode": {
    "name": "ipython",
    "version": 3
   },
   "file_extension": ".py",
   "mimetype": "text/x-python",
   "name": "python",
   "nbconvert_exporter": "python",
   "pygments_lexer": "ipython3",
   "version": "3.6.10"
  }
 },
 "nbformat": 4,
 "nbformat_minor": 4
}
